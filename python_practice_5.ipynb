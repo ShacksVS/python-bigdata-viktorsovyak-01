{
 "cells": [
  {
   "cell_type": "markdown",
   "metadata": {
    "id": "5qV_sehzFCTp"
   },
   "source": [
    "# I. OOP"
   ]
  },
  {
   "cell_type": "markdown",
   "metadata": {
    "id": "tx_U_hOALyfg"
   },
   "source": [
    "1. (6б). Створіть клас Animal, додайте три атрибути, один з яких має значення за замовчуванням та два методи на свій розсуд."
   ]
  },
  {
   "cell_type": "code",
   "execution_count": 7,
   "metadata": {
    "id": "-Vf895KaL88N"
   },
   "outputs": [
    {
     "name": "stdout",
     "output_type": "stream",
     "text": [
      "Animal: biba, 3, medium\n"
     ]
    },
    {
     "data": {
      "text/plain": [
       "4"
      ]
     },
     "execution_count": 7,
     "metadata": {},
     "output_type": "execute_result"
    }
   ],
   "source": [
    "class Animal:\n",
    "    def __init__(self, name, age, size=\"medium\"):\n",
    "        self.name = name\n",
    "        self.age = age\n",
    "        self.size = size\n",
    "        \n",
    "    def grow(self):\n",
    "        self.age += 1\n",
    "    \n",
    "    def get_age(self):\n",
    "        return self.age\n",
    "    \n",
    "    def __str__(self):\n",
    "        return f\"Animal: {self.name}, {self.age}, {self.size}\"\n",
    "    \n",
    "animal = Animal(\"biba\", 3)\n",
    "print(animal)\n",
    "animal.grow()\n",
    "animal.get_age()"
   ]
  },
  {
   "cell_type": "markdown",
   "metadata": {
    "id": "X_UlOMB0L93w"
   },
   "source": [
    "2. (2б). Створіть два обʼєкти цього класу, де один з обʼєктів створюється із дефолтним значенням атрибуту. На одному обʼєкті отримайте значення його атрибуту, а на іншому викличте один з його методів."
   ]
  },
  {
   "cell_type": "code",
   "execution_count": 10,
   "metadata": {
    "id": "7gBu0ESOMCpG"
   },
   "outputs": [
    {
     "name": "stdout",
     "output_type": "stream",
     "text": [
      "Animal: cow, 12, medium\n",
      "Animal: cat, 4, small\n",
      "First animal name:  cow\n",
      "Second animal age:  4\n"
     ]
    }
   ],
   "source": [
    "animal1 = Animal(\"cow\", 12)\n",
    "animal2 = Animal(\"cat\", 4, \"small\")\n",
    "print(animal1)\n",
    "print(animal2)\n",
    "print(\"First animal name:\", animal1.name)\n",
    "print(\"Second animal age:\", animal2.get_age())"
   ]
  },
  {
   "cell_type": "markdown",
   "metadata": {
    "id": "HoqSCZt1MHn5"
   },
   "source": [
    "3. (5б). Створіть клас, де атрибути мають різні рівні доступу. Спробуйте отримати їхні значення та опишіть результати."
   ]
  },
  {
   "cell_type": "code",
   "execution_count": 16,
   "metadata": {
    "id": "r9b3vJxBMSPV"
   },
   "outputs": [
    {
     "name": "stdout",
     "output_type": "stream",
     "text": [
      "Public\n",
      "Protected\n",
      "Private\n"
     ]
    }
   ],
   "source": [
    "class MyClass:\n",
    "    def __init__(self):\n",
    "        self.public_attribute = \"Public\"\n",
    "        self._protected_attribute = \"Protected\"\n",
    "        self.__private_attribute = \"Private\"\n",
    "        \n",
    "    def get_private_attribute(self):\n",
    "        return self.__private_attribute\n",
    "\n",
    "my_object = MyClass()\n",
    "print(my_object.public_attribute)  # works well\n",
    "print(my_object._protected_attribute)  # works, but not recommendeed to use\n",
    "# print(my_object.__private_attribute)  # throws AttributeError\n",
    "print(my_object.get_private_attribute())  # proper way to get a private attribute"
   ]
  },
  {
   "cell_type": "markdown",
   "metadata": {
    "id": "5op2m2vgMSkZ"
   },
   "source": [
    "4. (7б). Як ви розумієте термін self? Для чого використовується метод __init __?"
   ]
  },
  {
   "cell_type": "markdown",
   "metadata": {
    "id": "DyiPqNRvMasx"
   },
   "source": [
    "Self - це термін, що означає представлення екземпляра класу. Тобто, self дозволяє доступатися до атрибутів і методів поточного об'єкта, що дає можливість звертатися до атрибутів та викликати інші методи визначені у класі, працюючи з конкретним екземпляром. Коли метод класу викликається, python автоматично передає об'єкт, для якого метод був викликаний, як перший аргумент методу. За конвенцією, цей аргумент називається self, хоча теоретично його можна назвати як завгодно. Використання self є стандартною практикою та рекомендується для забезпечення зрозумілості коду.\n",
    "\n",
    "Метод __init__ є спеціальним методом, який викликається автоматично при створенні нового екземпляра класу. Цей метод є конструктором класу і зазвичай використовується для ініціалізації атрибутів об'єкта. У __init__ можна встановлювати початкові значення для атрибутів об'єкта або виконувати будь-які інші операції необхідні для правильної ініціалізації об'єкта перед його використанням.\n"
   ]
  },
  {
   "cell_type": "markdown",
   "metadata": {
    "id": "-6X8EGfjMd2y"
   },
   "source": [
    "5. (9б). Створіть клас Фігура без атрибутів, з методом get_area для отримання площі фігури, що повертає 0 та __add __, який приймає self та other в якості аргументів, а повертає суму площин фігур self та other."
   ]
  },
  {
   "cell_type": "code",
   "execution_count": 18,
   "metadata": {
    "id": "4rvO_wYUMaEr"
   },
   "outputs": [],
   "source": [
    "class Figure:\n",
    "    def get_area():\n",
    "        return 0\n",
    "    \n",
    "    def __add__(self, other):\n",
    "        return self.get_area() + other.get_area()"
   ]
  },
  {
   "cell_type": "markdown",
   "metadata": {
    "id": "SFcKnnv5Mo_z"
   },
   "source": [
    "6. (11б). Створіть 2 дочірніх класи від Фігури: Трикутник та Коло, які мають атрибути, необхідні для розрахунку площин. Визначте метод get_area в кожному з них так, щоби вони розраховували площу в залежності від формули для кожного типу фігури. Створіть обʼєкт класу Трикутник та обʼєкт класу Коло. Виконайте операцію суми за допомогою оператора + між ними."
   ]
  },
  {
   "cell_type": "code",
   "execution_count": 23,
   "metadata": {
    "id": "H3GVNr69Muf3"
   },
   "outputs": [
    {
     "name": "stdout",
     "output_type": "stream",
     "text": [
      "Triangle area: 6.0\n",
      "Circle area: 12.566370614359172\n",
      "18.566370614359172\n"
     ]
    }
   ],
   "source": [
    "import math\n",
    "\n",
    "class Triangle(Figure):\n",
    "    def __init__(self, a, b, c):\n",
    "        self.a = a\n",
    "        self.b = b\n",
    "        self.c = c\n",
    "    \n",
    "    def get_area(self):\n",
    "        s = (self.a + self.b + self.c) / 2\n",
    "        return math.sqrt(s * (s - self.a) * (s - self.b) * (s - self.c))\n",
    "    \n",
    "class Circle(Figure):\n",
    "    def __init__(self, radius):\n",
    "        self.radius = radius\n",
    "        \n",
    "    def get_area(self):\n",
    "        return math.pi * self.radius ** 2\n",
    "    \n",
    "triangle = Triangle(3, 4, 5)\n",
    "circle = Circle(2) \n",
    "print(\"Triangle area:\", triangle.get_area())\n",
    "print(\"Circle area:\", circle.get_area())\n",
    "total_area = triangle + circle\n",
    "print(total_area)"
   ]
  },
  {
   "cell_type": "markdown",
   "metadata": {
    "id": "HCvR206YMvLK"
   },
   "source": [
    "7. (3б). Продемонструйте різницю між isinstance та issubclass."
   ]
  },
  {
   "cell_type": "code",
   "execution_count": 31,
   "metadata": {
    "id": "L_V1bBvDM0GN"
   },
   "outputs": [
    {
     "name": "stdout",
     "output_type": "stream",
     "text": [
      "True\n",
      "False\n",
      "True\n",
      "True\n",
      "True\n",
      "False\n"
     ]
    }
   ],
   "source": [
    "print(isinstance(triangle, Triangle))\n",
    "print(isinstance(triangle, Circle))\n",
    "print(isinstance(triangle, Figure))\n",
    "\n",
    "print(issubclass(Circle, Figure))\n",
    "print(issubclass(Triangle, Figure))\n",
    "print(issubclass(Figure, Triangle))\n",
    "\n",
    "# isinstance перевіряє, чи є даний об'єкт екземпляром певного класу \n",
    "# або його підкласу. Вона використовується для перевірки типу об'єкта в рантаймі\n",
    "# issubclass перевіряє, чи є один клас підкласом іншого класу\n",
    "# Вона використовується для перевірки відносин наслідування між класами"
   ]
  },
  {
   "cell_type": "markdown",
   "metadata": {
    "id": "jjsaBZ-iM0Qq"
   },
   "source": [
    "8. (13б). Створіть клас BankAccount з приватними атрибутами balance та account_number. Реалізуйте методи поповнення та зняття коштів, забезпечивши належну інкапсуляцію. Підказка: використовуйте декоратори property та setter."
   ]
  },
  {
   "cell_type": "code",
   "execution_count": 43,
   "metadata": {
    "id": "xCvZ7lh8M7YA"
   },
   "outputs": [
    {
     "name": "stdout",
     "output_type": "stream",
     "text": [
      "10\n",
      "Недостатньо коштів на рахунку для зняття.\n",
      "Додано 500. Поточний баланс: 510.\n",
      "200 знято. Поточний баланс: 310.\n"
     ]
    }
   ],
   "source": [
    "class BankAccount:\n",
    "    def __init__(self, account_number, balance=0):\n",
    "        self.__account_number = account_number\n",
    "        self.__balance = balance\n",
    "        \n",
    "    @property\n",
    "    def balance(self):\n",
    "        return self.__balance\n",
    "    \n",
    "    @balance.setter\n",
    "    def balance(self):\n",
    "        print(\"Прямий доступ до балансу не дозволено. Використовуйте deposit() або withdraw().\")\n",
    "        \n",
    "    @property\n",
    "    def account_number(self):\n",
    "        return self.__account_number\n",
    "    \n",
    "    def deposit(self, amount):\n",
    "        if amount > 0:\n",
    "            self.__balance += amount\n",
    "            print(f\"Додано {amount}. Поточний баланс: {self.__balance}.\")\n",
    "        else:\n",
    "            print(\"Сума депозиту має бути більше нуля.\")\n",
    "\n",
    "    def withdraw(self, amount):\n",
    "        if amount > 0 and amount <= self.__balance:\n",
    "            self.__balance -= amount\n",
    "            print(f\"{amount} знято. Поточний баланс: {self.__balance}.\")\n",
    "        elif amount > self.__balance:\n",
    "            print(\"Недостатньо коштів на рахунку для зняття.\")\n",
    "        else:\n",
    "            print(\"Сума зняття має бути більше нуля.\")\n",
    "\n",
    "customer = BankAccount(\"1234\", 10)\n",
    "print(customer.balance)\n",
    "customer.withdraw(200)\n",
    "customer.deposit(500)\n",
    "customer.withdraw(200)"
   ]
  },
  {
   "cell_type": "markdown",
   "metadata": {
    "id": "tIzL2SJTM8ft"
   },
   "source": [
    "9. (11б). Створіть клас Library, який містить список об'єктів типу Book. Реалізуйте методи для додавання книги, видалення книги та відображення списку книг."
   ]
  },
  {
   "cell_type": "code",
   "execution_count": 57,
   "metadata": {
    "id": "HWxfJKLtNAUZ"
   },
   "outputs": [
    {
     "name": "stdout",
     "output_type": "stream",
     "text": [
      "Added: Book: harry, 91\n",
      "Added: Book: porter, 191\n",
      "\n",
      "Library\n",
      "-------\n",
      "Book: harry, 91\n",
      "Book: porter, 191\n",
      "-------\n",
      "\n",
      "Removed: Book: harry, 91\n",
      "\n",
      "Library\n",
      "-------\n",
      "Book: porter, 191\n",
      "-------\n",
      "\n"
     ]
    }
   ],
   "source": [
    "class Book:\n",
    "    def __init__(self, name, number_pages):\n",
    "        self.name = name\n",
    "        self.pages = number_pages\n",
    "\n",
    "    def __str__(self):\n",
    "        return f\"Book: {self.name}, {self.pages}\"\n",
    "        \n",
    "class Library:\n",
    "    \n",
    "    def __init__(self):\n",
    "        self.books = []\n",
    "    \n",
    "    def add_book(self, book: Book):\n",
    "        self.books.append(book)\n",
    "        print(\"Added:\", book)\n",
    "        \n",
    "    def remove_book(self, book: Book):\n",
    "        self.books.remove(book)\n",
    "        print(\"Removed:\", book)\n",
    "\n",
    "    \n",
    "    def show(self):\n",
    "        print(\"\\nLibrary\")\n",
    "        print(\"-------\")\n",
    "        for book in self.books:\n",
    "            print(book)\n",
    "        print(\"-------\\n\")\n",
    "\n",
    "            \n",
    "\n",
    "book1 = Book(\"harry\", 91)\n",
    "book2 = Book(\"porter\", 191)\n",
    "lib = Library()\n",
    "lib.add_book(book1)\n",
    "lib.add_book(book2)\n",
    "lib.show()\n",
    "lib.remove_book(book1)\n",
    "lib.show()"
   ]
  },
  {
   "cell_type": "markdown",
   "metadata": {
    "id": "lmV8pAwwNIqu"
   },
   "source": [
    "10. (13б). Створіть клас Person з атрибутами name та age. Створіть ще один клас Employee з такими атрибутами, як department та salary. Створіть клас Manager, який успадковує обидва класи Person та Employee. Продемонструйте використання множинної спадковості, створивши обʼєкт класу Manager та отримавши mro для цього класу."
   ]
  },
  {
   "cell_type": "code",
   "execution_count": 65,
   "metadata": {
    "id": "R49grKlWNPeN"
   },
   "outputs": [
    {
     "name": "stdout",
     "output_type": "stream",
     "text": [
      "Person: Іван, 40, Employee: ІТ, 5000\n",
      "(<class '__main__.Manager'>, <class '__main__.Person'>, <class '__main__.Employee'>, <class 'object'>)\n"
     ]
    }
   ],
   "source": [
    "class Person:\n",
    "    def __init__(self, name, age):\n",
    "        self.name = name\n",
    "        self.age = age\n",
    "\n",
    "    def __str__(self):\n",
    "        return f\"Person: {self.name}, {self.age}\"\n",
    "    \n",
    "class Employee:\n",
    "    def __init__(self, department, salary):\n",
    "        self.department = department\n",
    "        self.salary = salary\n",
    "        \n",
    "    def __str__(self):\n",
    "        return f\"Employee: {self.department}, {self.salary}\"\n",
    "    \n",
    "class Manager(Person, Employee):\n",
    "    def __init__(self, name, age, department, salary):\n",
    "        Person.__init__(self, name, age)\n",
    "        Employee.__init__(self, department, salary)\n",
    "        \n",
    "    def __str__(self):\n",
    "        person_str = Person.__str__(self)\n",
    "        employee_str = Employee.__str__(self)\n",
    "        return f\"{person_str}; {employee_str}\"\n",
    "        \n",
    "manager = Manager(\"Іван\", 40, \"ІТ\", 5000)\n",
    "print(manager)\n",
    "print(Manager.__mro__)"
   ]
  },
  {
   "cell_type": "markdown",
   "metadata": {
    "id": "dIJyUiNBFG8G"
   },
   "source": [
    "# II. Iterator"
   ]
  },
  {
   "cell_type": "markdown",
   "metadata": {
    "id": "13vsm0NyKIzL"
   },
   "source": [
    "11. (4б). Визначте рядок(str) з 4ма різними за значенням символами. Створіть ітератор на основі цього рядка. Викличте 5 разів функцію next на ітераторі, 4ри перших з них огорніть у ф-цію print()."
   ]
  },
  {
   "cell_type": "code",
   "execution_count": 69,
   "metadata": {
    "id": "81ntabAkKuz-"
   },
   "outputs": [
    {
     "name": "stdout",
     "output_type": "stream",
     "text": [
      "a\n",
      "b\n",
      "c\n",
      "d\n"
     ]
    },
    {
     "ename": "StopIteration",
     "evalue": "",
     "output_type": "error",
     "traceback": [
      "\u001b[0;31m---------------------------------------------------------------------------\u001b[0m",
      "\u001b[0;31mStopIteration\u001b[0m                             Traceback (most recent call last)",
      "Cell \u001b[0;32mIn[69], line 7\u001b[0m\n\u001b[1;32m      5\u001b[0m \u001b[38;5;28mprint\u001b[39m(\u001b[38;5;28mnext\u001b[39m(my_iter))\n\u001b[1;32m      6\u001b[0m \u001b[38;5;28mprint\u001b[39m(\u001b[38;5;28mnext\u001b[39m(my_iter))\n\u001b[0;32m----> 7\u001b[0m \u001b[38;5;28;43mnext\u001b[39;49m\u001b[43m(\u001b[49m\u001b[43mmy_iter\u001b[49m\u001b[43m)\u001b[49m\n",
      "\u001b[0;31mStopIteration\u001b[0m: "
     ]
    }
   ],
   "source": [
    "my_str = \"abcd\"\n",
    "my_iter = iter(my_str)\n",
    "print(next(my_iter))\n",
    "print(next(my_iter))\n",
    "print(next(my_iter))\n",
    "print(next(my_iter))\n",
    "next(my_iter)  # StopIteration"
   ]
  },
  {
   "cell_type": "markdown",
   "metadata": {
    "id": "aekWHGXOLRsO"
   },
   "source": [
    "А що якщо викликати цю ж функцію на рядку?"
   ]
  },
  {
   "cell_type": "code",
   "execution_count": 70,
   "metadata": {
    "id": "mxATGsErLV1i"
   },
   "outputs": [
    {
     "ename": "TypeError",
     "evalue": "'str' object is not an iterator",
     "output_type": "error",
     "traceback": [
      "\u001b[0;31m---------------------------------------------------------------------------\u001b[0m",
      "\u001b[0;31mTypeError\u001b[0m                                 Traceback (most recent call last)",
      "Cell \u001b[0;32mIn[70], line 1\u001b[0m\n\u001b[0;32m----> 1\u001b[0m \u001b[38;5;28mprint\u001b[39m(\u001b[38;5;28;43mnext\u001b[39;49m\u001b[43m(\u001b[49m\u001b[43mmy_str\u001b[49m\u001b[43m)\u001b[49m)\n",
      "\u001b[0;31mTypeError\u001b[0m: 'str' object is not an iterator"
     ]
    }
   ],
   "source": [
    "print(next(my_str))\n",
    "# TypeError: 'str' object is not an iterator"
   ]
  },
  {
   "cell_type": "markdown",
   "metadata": {
    "id": "XwtMEopwJ4pH"
   },
   "source": [
    " 12. (5б). Опишіть своїми словами в одному реченні, як ви розумієте різницю між ітерабельними обʼєктами та ітераторами (можна на прикладі)."
   ]
  },
  {
   "cell_type": "markdown",
   "metadata": {
    "id": "-sHrODc3KFn8"
   },
   "source": [
    "Ітерабельні об'єкти - це ті, по яких можна пройтися в циклі (наприклад, список), а ітератори - це спеціальні об'єкти, які використовуються для перебору елементів ітерабельного об'єкта, забезпечуючи доступ до наступного елемента за допомогою методу __next__."
   ]
  },
  {
   "cell_type": "markdown",
   "metadata": {
    "id": "E9qJWmNbK8Gl"
   },
   "source": [
    "13. (11б). Створіть клас, що має визначений Iterator Protocol та при кожному виклику next повертає літери англійської абетки, поки вони не вичерпаються."
   ]
  },
  {
   "cell_type": "code",
   "execution_count": 77,
   "metadata": {
    "id": "cqx-g_RsLo6I"
   },
   "outputs": [
    {
     "name": "stdout",
     "output_type": "stream",
     "text": [
      "A\n",
      "B\n",
      "C\n",
      "D\n",
      "E\n",
      "F\n",
      "G\n",
      "H\n",
      "I\n",
      "J\n",
      "K\n",
      "L\n",
      "M\n",
      "N\n",
      "O\n",
      "P\n",
      "Q\n",
      "R\n",
      "S\n",
      "T\n",
      "U\n",
      "V\n",
      "W\n",
      "X\n",
      "Y\n",
      "Z\n",
      "Error, there is no more letters\n",
      "None\n",
      "Error, there is no more letters\n",
      "None\n"
     ]
    }
   ],
   "source": [
    "class AlphabetIterator:\n",
    "    def __init__(self):\n",
    "        self.letters = 'ABCDEFGHIJKLMNOPQRSTUVWXYZ'\n",
    "        self.index = 0\n",
    "        \n",
    "    def __iter__(self):\n",
    "        return self\n",
    "    \n",
    "    def __next__(self):\n",
    "        if self.index >= len(self.letters):\n",
    "            print(\"Error, there is no more letters\")\n",
    "#             raise StopIteration\n",
    "            return\n",
    "        \n",
    "        letter = self.letters[self.index]\n",
    "        self.index += 1\n",
    "        return letter\n",
    "        \n",
    "alphabet = AlphabetIterator()\n",
    "my_iter = iter(alphabet)\n",
    "\n",
    "for _ in range(0,28):\n",
    "    print(next(my_iter))"
   ]
  },
  {
   "cell_type": "markdown",
   "metadata": {
    "id": "Z3E3S_s1Fv7-"
   },
   "source": [
    "# Вітаю! Ви велика(ий) молодець, що впоралась(вся). Похваліть себе та побалуйте чимось приємним. Я Вами пишаюся."
   ]
  }
 ],
 "metadata": {
  "colab": {
   "provenance": []
  },
  "kernelspec": {
   "display_name": "Python 3 (ipykernel)",
   "language": "python",
   "name": "python3"
  },
  "language_info": {
   "codemirror_mode": {
    "name": "ipython",
    "version": 3
   },
   "file_extension": ".py",
   "mimetype": "text/x-python",
   "name": "python",
   "nbconvert_exporter": "python",
   "pygments_lexer": "ipython3",
   "version": "3.10.13"
  }
 },
 "nbformat": 4,
 "nbformat_minor": 1
}
