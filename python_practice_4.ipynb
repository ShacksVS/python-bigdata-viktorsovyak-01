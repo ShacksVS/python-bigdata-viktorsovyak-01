{
 "cells": [
  {
   "cell_type": "markdown",
   "metadata": {
    "id": "kXpppdVm6wFy"
   },
   "source": [
    "# I. Functions. Arguments."
   ]
  },
  {
   "cell_type": "markdown",
   "metadata": {
    "id": "u_krJdlbAkVz"
   },
   "source": [
    "1. (5б) Назвіть основні 4 смислові  частини, з яких складається функція."
   ]
  },
  {
   "cell_type": "markdown",
   "metadata": {
    "id": "KKTrTXmHAptb"
   },
   "source": [
    "назва функції, параметри функції(аргументи), тіло функції, повернене значення"
   ]
  },
  {
   "cell_type": "markdown",
   "metadata": {
    "id": "ORM4PqJQAtDM"
   },
   "source": [
    "2. (3б) Визначте функцію, що приймає 2 аргументи та повертає результат ділення 1го аргумента на інший."
   ]
  },
  {
   "cell_type": "code",
   "execution_count": 1,
   "metadata": {
    "id": "EuDx-z8M6sLo"
   },
   "outputs": [
    {
     "data": {
      "text/plain": [
       "4.5"
      ]
     },
     "execution_count": 1,
     "metadata": {},
     "output_type": "execute_result"
    }
   ],
   "source": [
    "def foo(x: float, y: float) -> float :\n",
    "    return x / y\n",
    "\n",
    "foo(9, 2)"
   ]
  },
  {
   "cell_type": "markdown",
   "metadata": {
    "id": "5joQGQ-SAyMe"
   },
   "source": [
    "3. (2б) Викличте вище визначену функцію, де другий аргумент дорівнює 0."
   ]
  },
  {
   "cell_type": "code",
   "execution_count": 2,
   "metadata": {
    "id": "V5cBV1LOA3d-"
   },
   "outputs": [
    {
     "ename": "ZeroDivisionError",
     "evalue": "division by zero",
     "output_type": "error",
     "traceback": [
      "\u001b[0;31m---------------------------------------------------------------------------\u001b[0m",
      "\u001b[0;31mZeroDivisionError\u001b[0m                         Traceback (most recent call last)",
      "Cell \u001b[0;32mIn[2], line 1\u001b[0m\n\u001b[0;32m----> 1\u001b[0m \u001b[43mfoo\u001b[49m\u001b[43m(\u001b[49m\u001b[38;5;241;43m10\u001b[39;49m\u001b[43m,\u001b[49m\u001b[43m \u001b[49m\u001b[38;5;241;43m0\u001b[39;49m\u001b[43m)\u001b[49m\n",
      "Cell \u001b[0;32mIn[1], line 2\u001b[0m, in \u001b[0;36mfoo\u001b[0;34m(x, y)\u001b[0m\n\u001b[1;32m      1\u001b[0m \u001b[38;5;28;01mdef\u001b[39;00m \u001b[38;5;21mfoo\u001b[39m(x: \u001b[38;5;28mfloat\u001b[39m, y: \u001b[38;5;28mfloat\u001b[39m) \u001b[38;5;241m-\u001b[39m\u001b[38;5;241m>\u001b[39m \u001b[38;5;28mfloat\u001b[39m :\n\u001b[0;32m----> 2\u001b[0m     \u001b[38;5;28;01mreturn\u001b[39;00m \u001b[43mx\u001b[49m\u001b[43m \u001b[49m\u001b[38;5;241;43m/\u001b[39;49m\u001b[43m \u001b[49m\u001b[43my\u001b[49m\n",
      "\u001b[0;31mZeroDivisionError\u001b[0m: division by zero"
     ]
    }
   ],
   "source": [
    "foo(10, 0)"
   ]
  },
  {
   "cell_type": "markdown",
   "metadata": {
    "id": "QyimWgW8A43-"
   },
   "source": [
    "4. (4б) Перевизначте функцію так, щоби у випадку ділення на 0 функція повертала None, а в решті випадків - результат розрахунків."
   ]
  },
  {
   "cell_type": "code",
   "execution_count": 8,
   "metadata": {
    "id": "7VIODtSjA8Ek"
   },
   "outputs": [
    {
     "name": "stdout",
     "output_type": "stream",
     "text": [
      "Result is None\n"
     ]
    }
   ],
   "source": [
    "def foo(x: float, y: float) -> float:\n",
    "    return x / y if y != 0 else None\n",
    "\n",
    "result = foo(10, 0)\n",
    "\n",
    "if result == None:\n",
    "    print(\"Result is None\")"
   ]
  },
  {
   "cell_type": "markdown",
   "metadata": {
    "id": "Y8mN0GfkA81l"
   },
   "source": [
    "5. (5б) Визначте функцію, що віднімає одне число від іншого (підказка: це буде 2 аргументи функції). При чому, якщо не визначити, скільки саме має бути віднято від числа, за замовчуванням має відніматися 1. Викличте функцію, передаючи тільки один аргумент."
   ]
  },
  {
   "cell_type": "code",
   "execution_count": 12,
   "metadata": {
    "id": "vg1kxkdgBA50"
   },
   "outputs": [
    {
     "data": {
      "text/plain": [
       "9"
      ]
     },
     "execution_count": 12,
     "metadata": {},
     "output_type": "execute_result"
    }
   ],
   "source": [
    "def substract(x, y=1):\n",
    "    return x - y\n",
    "\n",
    "substract(10)"
   ]
  },
  {
   "cell_type": "markdown",
   "metadata": {
    "id": "D3mwQGNOBBs4"
   },
   "source": [
    "6. (7б) Визначте функцію, яка приймає iterable (ітерабельний обʼєкт, напр. список), що складається з 7ми рядкових значень - назв погодних умов (напр. \"sunny\") за кожен день у тижні. Повертає функція словник, де ключами є рядки з погодними умовами, а значеннями - кількість разів, скільки дана погода була протягом тижня (напр. {'sunny': 1, ...}). Викличте цю функцію та виведіть результат її роботи на екран."
   ]
  },
  {
   "cell_type": "code",
   "execution_count": 13,
   "metadata": {
    "id": "OsWm-hKcBFyn"
   },
   "outputs": [
    {
     "data": {
      "text/plain": [
       "{'sunny': 2, 'rain': 2, 'cloudly': 1, 'windy': 2}"
      ]
     },
     "execution_count": 13,
     "metadata": {},
     "output_type": "execute_result"
    }
   ],
   "source": [
    "lst = [\"sunny\", \"rain\", \"cloudly\", \"windy\", \"sunny\", \"rain\", \"windy\"]\n",
    "\n",
    "def process_weather(lst: list) -> dict:\n",
    "    weather_dict = dict()\n",
    "    \n",
    "    for condition in lst:\n",
    "        weather_dict[condition] = weather_dict.get(condition, 0) + 1\n",
    "    return weather_dict\n",
    "\n",
    "process_weather(lst)"
   ]
  },
  {
   "cell_type": "markdown",
   "metadata": {
    "id": "RMiCcdOsBKQT"
   },
   "source": [
    "7. (15б) Напишіть програму, яка б шукала необхідне число у впорядкованому списку цілочислених значень, де\n",
    "число має вводитись з консолі.\n",
    "власне алгоритм пошуку винесений в окрему функцію, яка повертає булеве значення (знайдено число - True, не знайдено - False).\n",
    "в залежності від результату функції, виведіть на екран повідомлення про успішний або ж неуспішний пошук.\n",
    "Зауваження: використовувати оператор in заборонено."
   ]
  },
  {
   "cell_type": "code",
   "execution_count": 31,
   "metadata": {
    "id": "UNCZg65OBOy-"
   },
   "outputs": [
    {
     "name": "stdout",
     "output_type": "stream",
     "text": [
      "Enter number: 20\n"
     ]
    },
    {
     "data": {
      "text/plain": [
       "False"
      ]
     },
     "execution_count": 31,
     "metadata": {},
     "output_type": "execute_result"
    }
   ],
   "source": [
    "def check_list(number, lst) -> bool:\n",
    "    for member in lst:\n",
    "        if number == member:\n",
    "            return True  # found\n",
    "    \n",
    "    return False  # not found\n",
    "\n",
    "number = int(input(\"Enter number: \"))\n",
    "my_list = range(1, 20)  # 1..19\n",
    "\n",
    "check_list(number, my_list)"
   ]
  },
  {
   "cell_type": "markdown",
   "metadata": {
    "id": "Ae1n_OvLBTsy"
   },
   "source": [
    "# II. Lambda functions."
   ]
  },
  {
   "cell_type": "markdown",
   "metadata": {
    "id": "xaD_wSlaCWen"
   },
   "source": [
    "8. (4б) В яких випадках варто використовувати лямбда-функції?"
   ]
  },
  {
   "cell_type": "markdown",
   "metadata": {
    "id": "42MB6OoLCakR"
   },
   "source": [
    "Коли потрібно створити невелику анонімну функцію без необхідності визначення імені через ключове слово def. Лямбда-функції часто використовуються разом з функціями вищих порядків, такими як map, filter або reduce."
   ]
  },
  {
   "cell_type": "markdown",
   "metadata": {
    "id": "USrzrk7GCedk"
   },
   "source": [
    "9. (9б) Визначте список з рядками. Після цього визначте анонімну функцію для отримання першого символу у верхньому регістрі для кожного рядка списку.\n",
    "Підказка: використовуйте анонімну функцію в якості агрумента до вбудованої ф-ції, яка створена для застосування функцій над iterable обʼєктами. Результат виведіть на екран у вигляді кортежу."
   ]
  },
  {
   "cell_type": "code",
   "execution_count": 37,
   "metadata": {
    "id": "M8QWUsMlCjWH"
   },
   "outputs": [
    {
     "data": {
      "text/plain": [
       "('S', 'R', 'C', 'W', 'S', 'R', 'W')"
      ]
     },
     "execution_count": 37,
     "metadata": {},
     "output_type": "execute_result"
    }
   ],
   "source": [
    "lst = [\"sunny\", \"rain\", \"cloudly\", \"windy\", \"sunny\", \"rain\", \"windy\"]\n",
    "\n",
    "calc = tuple(map(lambda i: i[0].upper(), lst))\n",
    "calc"
   ]
  },
  {
   "cell_type": "markdown",
   "metadata": {
    "id": "9fyUhXOoCtGp"
   },
   "source": [
    "10. (10б) Визначте список з числовими значеннями (і цілими, і з рухомою комою). а) Відфільтруйте всі числа, які діляться націло на 3 за допомогою вбудованої функції та анонімної функції в якості аргумента). Збережіть результат у змінній, не приводяти явно до будь-якого типу. б) Використовуючи результат на кроці 12.а у якості аргументу, та за допомогою лямбда-функції в якості іншого аргументу до вбудованої функції, додайте до кожного елементу число 1 та опісля зведіть у квадрат. Остаточний результат приведіть явно до списку та виведіть на екран."
   ]
  },
  {
   "cell_type": "code",
   "execution_count": 40,
   "metadata": {
    "id": "exEx2_okCsql"
   },
   "outputs": [
    {
     "data": {
      "text/plain": [
       "[16, 100]"
      ]
     },
     "execution_count": 40,
     "metadata": {},
     "output_type": "execute_result"
    }
   ],
   "source": [
    "lst = [1, 3, 4, 5.3, 9, 29.1]\n",
    "temp = filter(lambda x: x % 3 == 0, lst)\n",
    "\n",
    "result = list(map(lambda x: (x+1)**2, temp))\n",
    "result"
   ]
  },
  {
   "cell_type": "markdown",
   "metadata": {
    "id": "o_x8cG_WC7jp"
   },
   "source": [
    "# III. Decorators."
   ]
  },
  {
   "cell_type": "markdown",
   "metadata": {
    "id": "mhxS4-mfC8LQ"
   },
   "source": [
    "11. (11б) Визначте декоратор, який би виводив у консоль повідомлення про початок роботи і назву функції (напр. my_function._ _ name _ _), а після відпрацювання функції - повідомлення про закінчення роботи і назву функції, що задекорована."
   ]
  },
  {
   "cell_type": "code",
   "execution_count": 56,
   "metadata": {
    "id": "srd1ygWjDGhO"
   },
   "outputs": [
    {
     "name": "stdout",
     "output_type": "stream",
     "text": [
      "Function 'say_hi' started execution\n",
      "Hi!\n",
      "Finished 'say_hi' execution\n"
     ]
    }
   ],
   "source": [
    "def my_decorator(function):\n",
    "    def wrapper(*args, **kwargs):\n",
    "        print(f\"Function '{function.__name__}' started execution\")\n",
    "        function(*args, **kwargs)\n",
    "        print(f\"Finished '{function.__name__}' execution\")\n",
    "    \n",
    "    return wrapper\n",
    "\n",
    "@my_decorator\n",
    "def say_hi():\n",
    "    print(\"Hi!\")\n",
    "    \n",
    "decorated = say_hi\n",
    "decorated()"
   ]
  },
  {
   "cell_type": "markdown",
   "metadata": {
    "id": "rxGZwVBiDph3"
   },
   "source": [
    "12. (4б) Задекоруйте двома різними способами функції з завдання 4 та 5 декоратором із завдання 11. (**УВАГА**: не декоруйте функції двічі!)."
   ]
  },
  {
   "cell_type": "code",
   "execution_count": 81,
   "metadata": {
    "id": "06lj7eq_DwZe"
   },
   "outputs": [
    {
     "name": "stdout",
     "output_type": "stream",
     "text": [
      "Function 'foo' started execution\n",
      "Arguments: 10, 2, result: 5.0\n",
      "Finished 'foo' execution\n",
      "\n",
      "\n",
      "Function 'substract' started execution\n",
      "Arguments: 10, result: 9\n",
      "Finished 'substract' execution\n"
     ]
    }
   ],
   "source": [
    "def my_decorator(function):\n",
    "    def wrapper(*args, **kwargs):\n",
    "        print(f\"Function '{function.__name__}' started execution\")\n",
    "        \n",
    "        result = function(*args, **kwargs)\n",
    "        args_str = \", \".join(map(str, args))\n",
    "\n",
    "        print(f\"Arguments: {args_str}, result: {result}\")\n",
    "        \n",
    "        print(f\"Finished '{function.__name__}' execution\")\n",
    "        return result\n",
    "        \n",
    "    return wrapper\n",
    "\n",
    "# 1. Декорування функції foo() за допомогою синтаксису @\n",
    "@my_decorator\n",
    "def foo(x: float, y: float) -> float:\n",
    "    return x / y if y != 0 else None\n",
    "\n",
    "# 2. Декорування функції substract() явно\n",
    "def substract(x, y=1):\n",
    "    return x - y\n",
    "\n",
    "my_decorated1 = foo(10, 2)\n",
    "print(\"\\n\")\n",
    "my_decorated2 = my_decorator(substract)(10)\n"
   ]
  },
  {
   "cell_type": "markdown",
   "metadata": {
    "id": "P0ep1urBDzf-"
   },
   "source": [
    "13. (2б) Викличте одну з задекорованих функцій і виведіть її результат на екран."
   ]
  },
  {
   "cell_type": "code",
   "execution_count": 82,
   "metadata": {
    "id": "1QvTw0ctD0S3"
   },
   "outputs": [
    {
     "name": "stdout",
     "output_type": "stream",
     "text": [
      "5.0\n",
      "9\n"
     ]
    }
   ],
   "source": [
    "print(my_decorated1)\n",
    "print(my_decorated2)"
   ]
  },
  {
   "cell_type": "markdown",
   "metadata": {
    "id": "poECCpuoD2S9"
   },
   "source": [
    "# IV. Recursion."
   ]
  },
  {
   "cell_type": "markdown",
   "metadata": {
    "id": "DqkURfdsD7MY"
   },
   "source": [
    "14. (4б) Назвіть дві частини функції, які є обовʼязковими для того, щоб називати її рекурсивною."
   ]
  },
  {
   "cell_type": "markdown",
   "metadata": {
    "id": "HYW6ttIeIQIU"
   },
   "source": [
    "Базовий випадок, виклик в функції самої себе."
   ]
  },
  {
   "cell_type": "markdown",
   "metadata": {
    "id": "WYVt20UmEA35"
   },
   "source": [
    "15. (15б) Визначте функцію, яка рекурсивно реалізовує пошук числа у послідовності Фібоначчі за її індексом (нумерація починається з нуля). Наприклад, потрібно знайти перше число у послідовності, тоді функція прийматиме 0 у якості аргумента і повертатиме 1, якщо ж знаходити третє число (індекс 2) послідовності, то функція повертатиме 2, якщо ж знаходити десяте число (індекс 9), то функція повертатиме 55."
   ]
  },
  {
   "cell_type": "code",
   "execution_count": 88,
   "metadata": {
    "id": "xIMhp05AIpV_"
   },
   "outputs": [
    {
     "name": "stdout",
     "output_type": "stream",
     "text": [
      "0\n",
      "1\n",
      "55\n"
     ]
    }
   ],
   "source": [
    "def fib(index: int) -> int:\n",
    "    if index <= 1:\n",
    "        return index\n",
    "    else:\n",
    "        return fib(index - 1) + fib(index - 2)\n",
    "\n",
    "print(fib(0))\n",
    "print(fib(1))\n",
    "print(fib(10))"
   ]
  },
  {
   "cell_type": "markdown",
   "metadata": {
    "id": "ytXC8n_4Ip0W"
   },
   "source": [
    "# Вітаю! Ви велика(ий) молодець, що впоралась(вся). Похваліть себе та побалуйте чимось приємним. Я Вами пишаюся."
   ]
  }
 ],
 "metadata": {
  "colab": {
   "provenance": []
  },
  "kernelspec": {
   "display_name": "Python 3 (ipykernel)",
   "language": "python",
   "name": "python3"
  },
  "language_info": {
   "codemirror_mode": {
    "name": "ipython",
    "version": 3
   },
   "file_extension": ".py",
   "mimetype": "text/x-python",
   "name": "python",
   "nbconvert_exporter": "python",
   "pygments_lexer": "ipython3",
   "version": "3.10.13"
  }
 },
 "nbformat": 4,
 "nbformat_minor": 1
}
