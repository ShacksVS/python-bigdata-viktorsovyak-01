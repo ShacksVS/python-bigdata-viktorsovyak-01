{
 "cells": [
  {
   "cell_type": "markdown",
   "metadata": {
    "id": "qDEi2Pi-4yUC"
   },
   "source": [
    "# I. Оператори порівняння та логічні оператори. Умови."
   ]
  },
  {
   "cell_type": "markdown",
   "metadata": {
    "id": "3v8D4Dkm43Ua"
   },
   "source": [
    "1. Створіть цілочисленну змінну зі своїм щасливим або улюбленим числом. Напишіть код, який би автоматизовував наступну задачу.\n",
    "\n",
    "Якщо число парне, помножте його на 2 та виведіть результат на екран.\n",
    "\n",
    "Але якщо число непарне, помножте його на 3 та додайте 1 і виведіть на екран."
   ]
  },
  {
   "cell_type": "code",
   "execution_count": 50,
   "metadata": {
    "id": "dlVjc-Nu4bmb"
   },
   "outputs": [
    {
     "name": "stdout",
     "output_type": "stream",
     "text": [
      "32\n"
     ]
    }
   ],
   "source": [
    "my_var: int = 16\n",
    "    \n",
    "if my_var % 2 == 0:\n",
    "    my_var = my_var*2\n",
    "    print(my_var)\n",
    "    \n",
    "elif my_var % 2 == 1:\n",
    "    my_var = my_var*3 + 1\n",
    "    print(my_var)\n",
    "    "
   ]
  },
  {
   "cell_type": "markdown",
   "metadata": {
    "id": "H669P0QK5BI_"
   },
   "source": [
    "2. Створіть змінну, що посилається на список. Якщо список пустий, додайте будь-який елемент у кінець списку. Якщо ж ні, то нічого не робіть."
   ]
  },
  {
   "cell_type": "code",
   "execution_count": 51,
   "metadata": {
    "id": "ecWlfra45f6E"
   },
   "outputs": [
    {
     "data": {
      "text/plain": [
       "[1]"
      ]
     },
     "execution_count": 51,
     "metadata": {},
     "output_type": "execute_result"
    }
   ],
   "source": [
    "lst = list()\n",
    "\n",
    "if len(lst) == 0:\n",
    "    lst.append(1)\n",
    "lst"
   ]
  },
  {
   "cell_type": "markdown",
   "metadata": {
    "id": "h9Y3cMUd5h85"
   },
   "source": [
    "3. Створіть рядок зі своїм імʼям латинкою. Напишіть код, який би автоматизовував наступну задачу.\n",
    "\n",
    "Якщо в імені є літера \"а\"\n",
    " або \"i\", Виведіть на екран повідомлення \"A or I is in the name\".\n",
    "\n",
    "\n",
    "\n",
    "Якщо в імені є літери \"o\" та \"n\", Виведіть на екран повідомлення \"O and N is in the name\".\n",
    "\n",
    "Також якщо в імені немає літери \"о\", але є \"n\", Виведіть на екран повідомлення \"Only N is in the name\".\n",
    "\n",
    "В решті випадків виведіть на екран повідомлення \"There is no N in the name, but there might be O\".\n",
    "\n",
    "Зверніть увагу, що, наприклад, для імені \"Antonina\" буде виведено два повідомлення."
   ]
  },
  {
   "cell_type": "code",
   "execution_count": 17,
   "metadata": {
    "id": "bUH4LUx35u52"
   },
   "outputs": [
    {
     "name": "stdout",
     "output_type": "stream",
     "text": [
      "A or I is in the name\n",
      "There is no N in the name, but there might be O\n"
     ]
    }
   ],
   "source": [
    "my_name = \"Viktor\"\n",
    "\n",
    "if \"a\" in my_name or \"i\" in my_name:\n",
    "    print(\"A or I is in the name\")\n",
    "    \n",
    "if \"o\" in my_name and \"n\" in my_name:\n",
    "    print(\"O and N is in the name\")\n",
    "    \n",
    "elif \"o\" not in my_name and \"n\" in my_name:\n",
    "    print(\"Only N is in the name\")\n",
    "\n",
    "else:\n",
    "    print(\"There is no N in the name, but there might be O\")"
   ]
  },
  {
   "cell_type": "markdown",
   "metadata": {
    "id": "wPCXJv4354cU"
   },
   "source": [
    "# II. Comprehensions."
   ]
  },
  {
   "cell_type": "markdown",
   "metadata": {
    "id": "jULLW5jN55Pw"
   },
   "source": [
    "4. Створіть список, використовуючи if (не if-else), range та comprehension."
   ]
  },
  {
   "cell_type": "code",
   "execution_count": 20,
   "metadata": {
    "id": "mlZalnVC6W3F"
   },
   "outputs": [
    {
     "data": {
      "text/plain": [
       "[2, 4, 6, 8]"
      ]
     },
     "execution_count": 20,
     "metadata": {},
     "output_type": "execute_result"
    }
   ],
   "source": [
    "my_list = [x for x in range(1,10) if x % 2 == 0]\n",
    "my_list"
   ]
  },
  {
   "cell_type": "markdown",
   "metadata": {
    "id": "LqhEQ4JW6XcC"
   },
   "source": [
    "5. Створіть словник, використовуючи dict comprehension, що містить if else. Коли слід використовувати comprehensions, а коли їх слід уникати?"
   ]
  },
  {
   "cell_type": "code",
   "execution_count": 23,
   "metadata": {
    "id": "1yVaFbOs6hta"
   },
   "outputs": [
    {
     "data": {
      "text/plain": [
       "{2: 4, 3: 27, 4: 16, 5: 125, 6: 36, 7: 343, 8: 64, 9: 729}"
      ]
     },
     "execution_count": 23,
     "metadata": {},
     "output_type": "execute_result"
    }
   ],
   "source": [
    "my_dict = {x: x**2 if x % 2 == 0 else x**3 for x in range(2,10)}\n",
    "my_dict"
   ]
  },
  {
   "cell_type": "markdown",
   "metadata": {
    "id": "wbkzNhKq6hzz"
   },
   "source": [
    "Використання comprehensions є хорошою практикою, коли просто необхідно створити новий список. Вони забезпечують компактний та зрозумілий спосіб створення таких структур даних. Однак, якщо логіка стає складнішою, і є багато умов або вкладених виразів, то це може зробити код менш зрозумілим і важким для налагодження. У таких випадках краще використовувати звичайні цикли або розгалуження, щоб зберегти зрозумілість коду.\n"
   ]
  },
  {
   "cell_type": "markdown",
   "metadata": {
    "id": "ZlqB8G3G6lHP"
   },
   "source": [
    "6. Створіть список з рядками та запишіть його у змінну. Створіть ще один список на основі попереднього, де кожен рядок буде містити тільки три перших заглавних символи. Наприклад: ['hello', 'i', 'dont', 'care'] -> ['HEL', 'I', 'DON', 'CAR']. Використання comprehensions обовʼязкове."
   ]
  },
  {
   "cell_type": "code",
   "execution_count": 28,
   "metadata": {
    "id": "nw6rz0bR60VC"
   },
   "outputs": [
    {
     "data": {
      "text/plain": [
       "['STR', 'S', 'UPP', 'LOW']"
      ]
     },
     "execution_count": 28,
     "metadata": {},
     "output_type": "execute_result"
    }
   ],
   "source": [
    "my_lst = [\"String1\", \"s\", \"upper\", \"lower\"]\n",
    "my_lst1 = [x[:3].upper() for x in my_lst]\n",
    "my_lst1"
   ]
  },
  {
   "cell_type": "markdown",
   "metadata": {
    "id": "Tj573IAH64Fz"
   },
   "source": [
    "# III. Цикли."
   ]
  },
  {
   "cell_type": "markdown",
   "metadata": {
    "id": "tN_33xdE65H5"
   },
   "source": [
    "7. Продемонструйте роботу циклу while. Не можна використовувати True для запуску циклу, щоб уникнути безкінечного циклу!"
   ]
  },
  {
   "cell_type": "code",
   "execution_count": 29,
   "metadata": {
    "id": "Kd9FO6yG63P5"
   },
   "outputs": [
    {
     "name": "stdout",
     "output_type": "stream",
     "text": [
      "Now counter is 0\n",
      "Now counter is 1\n",
      "Now counter is 2\n",
      "Now counter is 3\n",
      "Now counter is 4\n"
     ]
    }
   ],
   "source": [
    "counter = 0\n",
    "\n",
    "while counter < 5:\n",
    "    print(f\"Now counter is {counter}\")\n",
    "    counter+=1"
   ]
  },
  {
   "cell_type": "markdown",
   "metadata": {
    "id": "x2CmfZO-7pW0"
   },
   "source": [
    "8. Напишіть програму, яка виведе на екран непарні числа в діапазоні від 0 до 20 включно."
   ]
  },
  {
   "cell_type": "code",
   "execution_count": 31,
   "metadata": {
    "id": "aCSRYA6s7tkF"
   },
   "outputs": [
    {
     "name": "stdout",
     "output_type": "stream",
     "text": [
      "1\n",
      "3\n",
      "5\n",
      "7\n",
      "9\n",
      "11\n",
      "13\n",
      "15\n",
      "17\n",
      "19\n"
     ]
    }
   ],
   "source": [
    "for number in range(0, 21):\n",
    "    if number % 2 != 1:\n",
    "        continue\n",
    "    print(number)"
   ]
  },
  {
   "cell_type": "markdown",
   "metadata": {
    "id": "MDWNocZD7t_B"
   },
   "source": [
    "9. Створіть список з елементами булевого типу або None. Використовуючи цикли, отримайте в результаті список з кортежами, де перший елемент кортежу - індекс(ціле число), а другий елемент - відповідне значення з першого списку.\n",
    "\n",
    "Наприклад, [True, True, None, False] -> [(0, True), (1, True), (2, None), (3, False)]"
   ]
  },
  {
   "cell_type": "code",
   "execution_count": 49,
   "metadata": {
    "id": "0EUyjMdp7yfh"
   },
   "outputs": [
    {
     "data": {
      "text/plain": [
       "[(0, True), (1, False), (2, None), (3, False), (4, True)]"
      ]
     },
     "execution_count": 49,
     "metadata": {},
     "output_type": "execute_result"
    }
   ],
   "source": [
    "lst = [True, False, None, False, True]\n",
    "new_lst = list()\n",
    "\n",
    "for index, value in enumerate(lst):\n",
    "    new_lst.append((index, value))\n",
    "    \n",
    "new_lst"
   ]
  },
  {
   "cell_type": "markdown",
   "metadata": {
    "id": "-6XUqlcG7zKs"
   },
   "source": [
    "10. Створіть словник, де ключі - назви книжок, а значення - їхня кількість у наявності в Вашій міні-бібліотеці. Бібліотека має містити щонайменше 6 книжок (6 пар значень у словнику) і щонайбільше 10 (пар значень). Використовуючи цикли, оновіть словник (не створюйте новий) так, щоби кількість книг у наявності збільшилося на 5 кожної книги. Наприклад,\n",
    "{'It': 3, 'Fault stars': 10, 'Bible': 17, 'Psychological romance': 4, 'Harry Potter': 13} -> {'It': 8, 'Fault stars': 15, 'Bible': 22, 'Psychological romance': 9, 'Harry Potter': 18}"
   ]
  },
  {
   "cell_type": "code",
   "execution_count": 48,
   "metadata": {
    "id": "Ceoj9wwb791q"
   },
   "outputs": [
    {
     "data": {
      "text/plain": [
       "{'It': 8,\n",
       " 'Fault stars': 15,\n",
       " 'Bible': 22,\n",
       " 'Psychological romance': 9,\n",
       " 'Harry Potter': 18,\n",
       " 'Hunger Games': 7,\n",
       " 'Game of Thrones': 10}"
      ]
     },
     "execution_count": 48,
     "metadata": {},
     "output_type": "execute_result"
    }
   ],
   "source": [
    "my_library = {'It': 3, \n",
    "              'Fault stars': 10, \n",
    "              'Bible': 17, \n",
    "              'Psychological romance': 4, \n",
    "              'Harry Potter': 13, \n",
    "              \"Hunger Games\": 2,\n",
    "              \"Game of Thrones\": 5\n",
    "             }\n",
    "\n",
    "for key, value in my_library.items():\n",
    "    my_library[key] = value + 5\n",
    "\n",
    "my_library"
   ]
  },
  {
   "cell_type": "markdown",
   "metadata": {
    "id": "QLzyJM288AC7"
   },
   "source": [
    "11. Визначте цілочислену змінну n, що належить проміжку від 4 до 10 включно. Використовуючи цикли, виведіть в консоль наступний патерн.\n",
    "\n",
    "#\n",
    "##\n",
    "###\n",
    "####\n",
    "\n",
    "... #*n\n"
   ]
  },
  {
   "cell_type": "code",
   "execution_count": 47,
   "metadata": {
    "id": "KOpng87s8Duz"
   },
   "outputs": [
    {
     "name": "stdout",
     "output_type": "stream",
     "text": [
      "#\n",
      "##\n",
      "###\n",
      "####\n",
      "#####\n"
     ]
    }
   ],
   "source": [
    "#\n",
    "##\n",
    "###\n",
    "####\n",
    "\n",
    "n = 5\n",
    "\n",
    "for i in range(1, n + 1):\n",
    "    print(\"#\" * i)"
   ]
  },
  {
   "cell_type": "markdown",
   "metadata": {
    "id": "_bd-bqAT8EHn"
   },
   "source": [
    "12. Гра \"Нумо вгадай\".\n",
    "Розробіть просту гру, де користувач має вгадати випадкове число від 1 до 100. Для генерації випадкового числа використовуйте функцію random.randint(a, b) (тут a та b включно). Для отримання числа з консолі використовуйте функцію input(), результат якої обовʼязково явно приведіть до типу int.\n",
    "\n",
    "Підказка: використовуйте цикл while та умови if-else, щоб повідомити користувачу піказки (напр. \"Більше\", \"Менше\") поки користувач не вгадає. По завершенню виведіть кількість спроб, які знадобилися для вгадування."
   ]
  },
  {
   "cell_type": "code",
   "execution_count": 46,
   "metadata": {
    "id": "IK9nnxFK8Hkl"
   },
   "outputs": [
    {
     "name": "stdout",
     "output_type": "stream",
     "text": [
      "Guess the number: 100\n",
      "Lower\n",
      "Guess the number: 50\n",
      "Higher\n",
      "Guess the number: 74\n",
      "Lower\n",
      "Guess the number: 60\n",
      "Lower\n",
      "Guess the number: 54\n",
      "Higher\n",
      "Guess the number: 57\n",
      "Lower\n",
      "Guess the number: 56\n",
      "Lower\n",
      "Guess the number: 55\n",
      "U won, the right answer was 55. Your score is 8\n"
     ]
    }
   ],
   "source": [
    "import random\n",
    "\n",
    "rand = random.randint(1, 100)\n",
    "running = True \n",
    "counter = 0\n",
    "\n",
    "while running:\n",
    "    user_input = int(input(\"Guess the number: \"))\n",
    "    counter += 1\n",
    "\n",
    "    if user_input > rand:\n",
    "        print(\"Lower\")\n",
    "    elif user_input < rand:\n",
    "        print(\"Higher\")\n",
    "    else:\n",
    "        print(f\"U won, the right answer was {rand}. Your score is {counter}\")\n",
    "        running = False\n",
    "    "
   ]
  },
  {
   "cell_type": "markdown",
   "metadata": {
    "id": "PXoXWb7Z8IGi"
   },
   "source": [
    "# Вітаю! Ви велика(ий) молодець, що впоралась(вся). Похваліть себе та побалуйте чимось приємним. Я Вами пишаюся."
   ]
  },
  {
   "cell_type": "code",
   "execution_count": null,
   "metadata": {},
   "outputs": [],
   "source": []
  },
  {
   "cell_type": "code",
   "execution_count": null,
   "metadata": {},
   "outputs": [],
   "source": []
  }
 ],
 "metadata": {
  "colab": {
   "provenance": []
  },
  "kernelspec": {
   "display_name": "Python 3 (ipykernel)",
   "language": "python",
   "name": "python3"
  },
  "language_info": {
   "codemirror_mode": {
    "name": "ipython",
    "version": 3
   },
   "file_extension": ".py",
   "mimetype": "text/x-python",
   "name": "python",
   "nbconvert_exporter": "python",
   "pygments_lexer": "ipython3",
   "version": "3.10.13"
  }
 },
 "nbformat": 4,
 "nbformat_minor": 1
}
